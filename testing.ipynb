{
 "cells": [
  {
   "cell_type": "code",
   "execution_count": 1,
   "metadata": {},
   "outputs": [],
   "source": [
    "save = True"
   ]
  },
  {
   "cell_type": "code",
   "execution_count": 2,
   "metadata": {},
   "outputs": [],
   "source": [
    "import numpy as np # scientific computing\n",
    "import matplotlib.pyplot as plt # plotting\n",
    "import matplotlib.image as mpimg # reading images\n",
    "from skimage.color import rgb2gray # converting rgb images to grayscale\n",
    "import cv2"
   ]
  },
  {
   "cell_type": "code",
   "execution_count": 3,
   "metadata": {},
   "outputs": [],
   "source": [
    "img1 = rgb2gray(mpimg.imread('test_image.png')[:,:,:3])\n",
    "img2 = rgb2gray(mpimg.imread('bird.png')[:,:,:3])"
   ]
  },
  {
   "cell_type": "code",
   "execution_count": 4,
   "metadata": {},
   "outputs": [],
   "source": [
    "def ResizeWithAspectRatio(image, width=None, height=None, inter=cv2.INTER_AREA):\n",
    "    dim = None\n",
    "    (h, w) = image.shape[:2]\n",
    "\n",
    "    if width is None and height is None:\n",
    "        return image\n",
    "    if width is None:\n",
    "        r = height / float(h)\n",
    "        dim = (int(w * r), height)\n",
    "    else:\n",
    "        r = width / float(w)\n",
    "        dim = (width, int(h * r))\n",
    "\n",
    "    return cv2.resize(image, dim, interpolation=inter)"
   ]
  },
  {
   "cell_type": "code",
   "execution_count": 16,
   "metadata": {},
   "outputs": [
    {
     "data": {
      "text/plain": [
       "'\\nplt.axis(\\'off\\')\\nplt.title(\"Original\")\\nplt.imshow(img2, cmap=\\'gray\\')\\nif save:\\n    plt.savefig(\"original_image.png\")\\nplt.show()\\n'"
      ]
     },
     "execution_count": 16,
     "metadata": {},
     "output_type": "execute_result"
    }
   ],
   "source": [
    "resize = ResizeWithAspectRatio(img1, width=700) # Resize by width OR\n",
    "cv2.imshow('Original', resize)\n",
    "cv2.waitKey(0)\n",
    "cv2.destroyAllWindows()\n",
    "if save:\n",
    "    result = cv2.normalize(resize, dst=None, alpha=0, beta=255,norm_type=cv2.NORM_MINMAX, dtype=cv2.CV_8U)\n",
    "    cv2.imwrite('original_image.png', result)    # mention the path you want to save the result\n",
    "\n",
    "'''\n",
    "plt.axis('off')\n",
    "plt.title(\"Original\")\n",
    "plt.imshow(img2, cmap='gray')\n",
    "if save:\n",
    "    plt.savefig(\"original_image.png\")\n",
    "plt.show()\n",
    "'''"
   ]
  },
  {
   "cell_type": "code",
   "execution_count": 6,
   "metadata": {},
   "outputs": [],
   "source": [
    "def plot_result(img, figsize_, method, filename, save=False):\n",
    "    plt.figure(figsize=figsize_)\n",
    "    plt.axis('off')\n",
    "    plt.title(method)\n",
    "    plt.imshow(img, cmap='gray')\n",
    "    if save:\n",
    "        plt.savefig(filename)\n",
    "    plt.show()\n",
    "\n",
    "def plot_results(result1, result2, figsize_, method, save=False):\n",
    "    fig, axs = plt.subplots(2, 2, figsize=figsize_)\n",
    "    axs[0, 0].set_title('Before ' + method)\n",
    "    axs[0, 0].axis('off')\n",
    "    axs[0, 0].imshow(result1, cmap='gray')\n",
    "    axs[0, 1].set_title('After ' + method)\n",
    "    axs[0, 1].imshow(result2, cmap='gray')\n",
    "    if save:\n",
    "        plt.savefig(method + '_results.png')\n",
    "    plt.show()"
   ]
  },
  {
   "cell_type": "markdown",
   "metadata": {},
   "source": [
    "### Sharpen"
   ]
  },
  {
   "cell_type": "code",
   "execution_count": 21,
   "metadata": {},
   "outputs": [],
   "source": [
    "def sharpen(img):\n",
    "    kernel = np.array([[0, -1, 0],\n",
    "                       [-1, 5, -1],\n",
    "                       [0, -1, 0]], np.float32)\n",
    "    sharpened_image = cv2.filter2D(img, -1, kernel)\n",
    "    return sharpened_image\n",
    "\n",
    "def laplacian(img):\n",
    "    kernel = np.array([[-1, -1, -1],\n",
    "                       [-1, 9, -1],\n",
    "                       [-1, -1, -1]], np.float32) \n",
    "    sharpened_image = cv2.filter2D(img, -1, kernel)\n",
    "    return sharpened_image\n",
    "\n",
    "def same(img):\n",
    "    kernel = np.array([[0, 0, 0],\n",
    "                       [0, 1, 0],\n",
    "                       [0, 0, 0]], np.float32) \n",
    "    img = cv2.filter2D(img, -1, kernel)\n",
    "    return img\n"
   ]
  },
  {
   "cell_type": "code",
   "execution_count": 17,
   "metadata": {},
   "outputs": [
    {
     "data": {
      "text/plain": [
       "'\\nplt.axis(\\'off\\')\\nplt.title(\"Sharpening\")\\nplt.imshow(sharpened_image, cmap=\\'gray\\')\\nif save:\\n    plt.savefig(\"sharpened_image.png\")\\nplt.show()\\n'"
      ]
     },
     "execution_count": 17,
     "metadata": {},
     "output_type": "execute_result"
    }
   ],
   "source": [
    "sharpened_image = sharpen(img1)\n",
    "resize = ResizeWithAspectRatio(sharpened_image, width=700) # Resize by width OR\n",
    "cv2.imshow('Sharpened', resize)\n",
    "cv2.waitKey(0)\n",
    "cv2.destroyAllWindows()\n",
    "if save:\n",
    "    result = cv2.normalize(resize, dst=None, alpha=0, beta=255,norm_type=cv2.NORM_MINMAX, dtype=cv2.CV_8U)\n",
    "    cv2.imwrite('sharpened_image.png', result)    # mention the path you want to save the result\n",
    "\n",
    "'''\n",
    "plt.axis('off')\n",
    "plt.title(\"Sharpening\")\n",
    "plt.imshow(sharpened_image, cmap='gray')\n",
    "if save:\n",
    "    plt.savefig(\"sharpened_image.png\")\n",
    "plt.show()\n",
    "'''"
   ]
  },
  {
   "cell_type": "code",
   "execution_count": 22,
   "metadata": {},
   "outputs": [
    {
     "data": {
      "text/plain": [
       "'\\nplt.axis(\\'off\\')\\nplt.title(\"Laplacian\")\\nplt.imshow(laplacian_image, cmap=\\'gray\\')\\nif save:\\n    plt.savefig(\"laplacian_image.png\")\\nplt.show()\\n'"
      ]
     },
     "execution_count": 22,
     "metadata": {},
     "output_type": "execute_result"
    }
   ],
   "source": [
    "laplacian_image = laplacian(img1)\n",
    "resize = ResizeWithAspectRatio(laplacian_image, width=700) # Resize by width OR\n",
    "cv2.imshow('Laplacian', resize)\n",
    "cv2.waitKey(0)\n",
    "cv2.destroyAllWindows()\n",
    "if save:\n",
    "    result = cv2.normalize(resize, dst=None, alpha=0, beta=255,norm_type=cv2.NORM_MINMAX, dtype=cv2.CV_8U)\n",
    "    cv2.imwrite('laplacian_image.png', result)    # mention the path you want to save the result\n",
    "\n",
    "'''\n",
    "plt.axis('off')\n",
    "plt.title(\"Laplacian\")\n",
    "plt.imshow(laplacian_image, cmap='gray')\n",
    "if save:\n",
    "    plt.savefig(\"laplacian_image.png\")\n",
    "plt.show()\n",
    "'''"
   ]
  },
  {
   "cell_type": "code",
   "execution_count": 23,
   "metadata": {},
   "outputs": [
    {
     "data": {
      "text/plain": [
       "'\\nplt.axis(\\'off\\')\\nplt.title(\"same\")\\nplt.imshow(same, cmap=\\'gray\\')\\nif save:\\n    plt.savefig(\"same_image.png\")\\nplt.show()\\n'"
      ]
     },
     "execution_count": 23,
     "metadata": {},
     "output_type": "execute_result"
    }
   ],
   "source": [
    "same = same(img1)\n",
    "resize = ResizeWithAspectRatio(same, width=700) # Resize by width OR\n",
    "cv2.imshow('Same', resize)\n",
    "cv2.waitKey(0)\n",
    "cv2.destroyAllWindows()\n",
    "if save:\n",
    "    result = cv2.normalize(resize, dst=None, alpha=0, beta=255,norm_type=cv2.NORM_MINMAX, dtype=cv2.CV_8U)\n",
    "    cv2.imwrite('same_image.png', result)    # mention the path you want to save the result\n",
    "\n",
    "'''\n",
    "plt.axis('off')\n",
    "plt.title(\"same\")\n",
    "plt.imshow(same, cmap='gray')\n",
    "if save:\n",
    "    plt.savefig(\"same_image.png\")\n",
    "plt.show()\n",
    "'''"
   ]
  },
  {
   "cell_type": "code",
   "execution_count": 25,
   "metadata": {},
   "outputs": [],
   "source": [
    "gaussian = cv2.GaussianBlur(img1, (0, 0), 2.0)\n",
    "unsharp_image = cv2.addWeighted(img1, 2.5, gaussian, -1.5, 0)\n",
    "\n",
    "resize = ResizeWithAspectRatio(unsharp_image, width=700) # Resize by width OR\n",
    "cv2.imshow('Unsharp Image', resize)\n",
    "cv2.waitKey(0)\n",
    "cv2.destroyAllWindows()\n",
    "if save:\n",
    "    result = cv2.normalize(resize, dst=None, alpha=0, beta=255,norm_type=cv2.NORM_MINMAX, dtype=cv2.CV_8U)\n",
    "    cv2.imwrite('unsharp_image.png', result)    # mention the path you want to save the result\n"
   ]
  }
 ],
 "metadata": {
  "kernelspec": {
   "display_name": "Python 3",
   "language": "python",
   "name": "python3"
  },
  "language_info": {
   "codemirror_mode": {
    "name": "ipython",
    "version": 3
   },
   "file_extension": ".py",
   "mimetype": "text/x-python",
   "name": "python",
   "nbconvert_exporter": "python",
   "pygments_lexer": "ipython3",
   "version": "3.11.1"
  }
 },
 "nbformat": 4,
 "nbformat_minor": 2
}
