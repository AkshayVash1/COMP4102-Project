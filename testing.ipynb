{
 "cells": [
  {
   "cell_type": "code",
   "execution_count": null,
   "metadata": {},
   "outputs": [],
   "source": [
    "save = True"
   ]
  },
  {
   "cell_type": "code",
   "execution_count": null,
   "metadata": {},
   "outputs": [],
   "source": [
    "import numpy as np # scientific computing\n",
    "import matplotlib.pyplot as plt # plotting\n",
    "import matplotlib.image as mpimg # reading images\n",
    "from skimage.color import rgb2gray # converting rgb images to grayscale\n",
    "import cv2"
   ]
  },
  {
   "cell_type": "code",
   "execution_count": null,
   "metadata": {},
   "outputs": [],
   "source": [
    "img1 = rgb2gray(mpimg.imread('test_image.png')[:,:,:3])\n",
    "img2 = rgb2gray(mpimg.imread('bird.png')[:,:,:3])\n",
    "img3 = rgb2gray(mpimg.imread('two_words.jpg')[:,:,:3])"
   ]
  },
  {
   "cell_type": "code",
   "execution_count": null,
   "metadata": {},
   "outputs": [],
   "source": [
    "def ResizeWithAspectRatio(image, width=None, height=None, inter=cv2.INTER_AREA):\n",
    "    dim = None\n",
    "    (h, w) = image.shape[:2]\n",
    "\n",
    "    if width is None and height is None:\n",
    "        return image\n",
    "    if width is None:\n",
    "        r = height / float(h)\n",
    "        dim = (int(w * r), height)\n",
    "    else:\n",
    "        r = width / float(w)\n",
    "        dim = (width, int(h * r))\n",
    "\n",
    "    return cv2.resize(image, dim, interpolation=inter)"
   ]
  },
  {
   "cell_type": "code",
   "execution_count": null,
   "metadata": {},
   "outputs": [],
   "source": [
    "resize = ResizeWithAspectRatio(img1, width=700) # Resize by width OR\n",
    "cv2.imshow('Original', resize)\n",
    "cv2.waitKey(0)\n",
    "cv2.destroyAllWindows()\n",
    "if save:\n",
    "    result = cv2.normalize(resize, dst=None, alpha=0, beta=255,norm_type=cv2.NORM_MINMAX, dtype=cv2.CV_8U)\n",
    "    cv2.imwrite('original_image.png', result)    # mention the path you want to save the result\n"
   ]
  },
  {
   "cell_type": "code",
   "execution_count": null,
   "metadata": {},
   "outputs": [],
   "source": [
    "'''\n",
    "def plot_result(img, figsize_, method, filename, save=False):\n",
    "    plt.figure(figsize=figsize_)\n",
    "    plt.axis('off')\n",
    "    plt.title(method)\n",
    "    plt.imshow(img, cmap='gray')\n",
    "    if save:\n",
    "        plt.savefig(filename)\n",
    "    plt.show()\n",
    "\n",
    "def plot_results(result1, result2, figsize_, method, save=False):\n",
    "    fig, axs = plt.subplots(2, 2, figsize=figsize_)\n",
    "    axs[0, 0].set_title('Before ' + method)\n",
    "    axs[0, 0].axis('off')\n",
    "    axs[0, 0].imshow(result1, cmap='gray')\n",
    "    axs[0, 1].set_title('After ' + method)\n",
    "    axs[0, 1].imshow(result2, cmap='gray')\n",
    "    if save:\n",
    "        plt.savefig(method + '_results.png')\n",
    "    plt.show()\n",
    "'''"
   ]
  },
  {
   "cell_type": "code",
   "execution_count": null,
   "metadata": {},
   "outputs": [],
   "source": [
    "resize = ResizeWithAspectRatio(img3, width=700) # Resize by width OR\n",
    "cv2.imshow('Test', resize)\n",
    "cv2.waitKey(0)\n",
    "cv2.destroyAllWindows()"
   ]
  },
  {
   "cell_type": "markdown",
   "metadata": {},
   "source": [
    "### Sharpen"
   ]
  },
  {
   "cell_type": "code",
   "execution_count": null,
   "metadata": {},
   "outputs": [],
   "source": [
    "def sharpen(img):\n",
    "    kernel = np.array([[0, -1, 0],\n",
    "                       [-1, 5, -1],\n",
    "                       [0, -1, 0]], np.float32)\n",
    "    sharpened_image = cv2.filter2D(img, -1, kernel)\n",
    "    return sharpened_image\n",
    "\n",
    "def laplacian(img):\n",
    "    kernel = np.array([[-1, -1, -1],\n",
    "                       [-1, 9, -1],\n",
    "                       [-1, -1, -1]], np.float32) \n",
    "    sharpened_image = cv2.filter2D(img, -1, kernel)\n",
    "    return sharpened_image\n",
    "\n",
    "def same(img):\n",
    "    kernel = np.array([[0, 0, 0],\n",
    "                       [0, 1, 0],\n",
    "                       [0, 0, 0]], np.float32) \n",
    "    img = cv2.filter2D(img, -1, kernel)\n",
    "    return img\n"
   ]
  },
  {
   "cell_type": "code",
   "execution_count": null,
   "metadata": {},
   "outputs": [],
   "source": [
    "sharpened_image = sharpen(img1)\n",
    "resize = ResizeWithAspectRatio(sharpened_image, width=700) # Resize by width OR\n",
    "cv2.imshow('Sharpened', resize)\n",
    "cv2.waitKey(0)\n",
    "cv2.destroyAllWindows()\n",
    "if save:\n",
    "    result = cv2.normalize(resize, dst=None, alpha=0, beta=255,norm_type=cv2.NORM_MINMAX, dtype=cv2.CV_8U)\n",
    "    cv2.imwrite('sharpened_image.png', result)    # mention the path you want to save the result\n"
   ]
  },
  {
   "cell_type": "code",
   "execution_count": null,
   "metadata": {},
   "outputs": [],
   "source": [
    "laplacian_image = laplacian(img1)\n",
    "resize = ResizeWithAspectRatio(laplacian_image, width=700) # Resize by width OR\n",
    "cv2.imshow('Laplacian', resize)\n",
    "cv2.waitKey(0)\n",
    "cv2.destroyAllWindows()\n",
    "if save:\n",
    "    result = cv2.normalize(resize, dst=None, alpha=0, beta=255,norm_type=cv2.NORM_MINMAX, dtype=cv2.CV_8U)\n",
    "    cv2.imwrite('laplacian_image.png', result)    # mention the path you want to save the result\n"
   ]
  },
  {
   "cell_type": "code",
   "execution_count": null,
   "metadata": {},
   "outputs": [],
   "source": [
    "same = same(img1)\n",
    "resize = ResizeWithAspectRatio(same, width=700) # Resize by width OR\n",
    "cv2.imshow('Same', resize)\n",
    "cv2.waitKey(0)\n",
    "cv2.destroyAllWindows()\n",
    "if save:\n",
    "    result = cv2.normalize(resize, dst=None, alpha=0, beta=255,norm_type=cv2.NORM_MINMAX, dtype=cv2.CV_8U)\n",
    "    cv2.imwrite('same_image.png', result)    # mention the path you want to save the result\n"
   ]
  },
  {
   "cell_type": "code",
   "execution_count": null,
   "metadata": {},
   "outputs": [],
   "source": [
    "gaussian = cv2.GaussianBlur(img1, (0, 0), 2.0)\n",
    "unsharp_image = cv2.addWeighted(img1, 2.5, gaussian, -1.5, 0)\n",
    "\n",
    "resize = ResizeWithAspectRatio(unsharp_image, width=700) # Resize by width OR\n",
    "cv2.imshow('Unsharp Image', resize)\n",
    "cv2.waitKey(0)\n",
    "cv2.destroyAllWindows()\n",
    "if save:\n",
    "    result = cv2.normalize(resize, dst=None, alpha=0, beta=255,norm_type=cv2.NORM_MINMAX, dtype=cv2.CV_8U)\n",
    "    cv2.imwrite('unsharp_image.png', result)    # mention the path you want to save the result\n"
   ]
  },
  {
   "cell_type": "markdown",
   "metadata": {},
   "source": [
    "### Shifting (as a percentage of the picture)"
   ]
  },
  {
   "cell_type": "code",
   "execution_count": null,
   "metadata": {},
   "outputs": [],
   "source": [
    "def shiftUp(img, percent):\n",
    "    height, width = img.shape[:2]\n",
    "    tx, ty = 0, -(height*percent/100)\n",
    "    translation_matrix = np.array([[1, 0, tx],\n",
    "                                    [0, 1, ty]\n",
    "                                ], dtype=np.float32)\n",
    "    translated_image = cv2.warpAffine(src=img, M=translation_matrix, dsize=(width, height))\n",
    "    return translated_image\n",
    "\n",
    "def shiftDown(img, percent):\n",
    "    height, width = img.shape[:2]\n",
    "    tx, ty = 0, (height*percent/100)\n",
    "    translation_matrix = np.array([[1, 0, tx],\n",
    "                                    [0, 1, ty]\n",
    "                                ], dtype=np.float32)\n",
    "    translated_image = cv2.warpAffine(src=img, M=translation_matrix, dsize=(width, height))\n",
    "    return translated_image\n",
    "\n",
    "def shiftLeft(img, percent):\n",
    "    height, width = img.shape[:2]\n",
    "    tx, ty = -(height*percent/100), -0\n",
    "    translation_matrix = np.array([[1, 0, tx],\n",
    "                                    [0, 1, ty]\n",
    "                                ], dtype=np.float32)\n",
    "    translated_image = cv2.warpAffine(src=img, M=translation_matrix, dsize=(width, height))\n",
    "    return translated_image\n",
    "\n",
    "def shiftRight(img, percent):\n",
    "    height, width = img.shape[:2]\n",
    "    tx, ty = (height*percent/100), 0\n",
    "    translation_matrix = np.array([[1, 0, tx],\n",
    "                                    [0, 1, ty]\n",
    "                                ], dtype=np.float32)\n",
    "    translated_image = cv2.warpAffine(src=img, M=translation_matrix, dsize=(width, height))\n",
    "    return translated_image"
   ]
  },
  {
   "cell_type": "code",
   "execution_count": null,
   "metadata": {},
   "outputs": [],
   "source": [
    "shifted_image1 = shiftUp(img1, 7)\n",
    "shifted_image1 = shiftDown(shifted_image1, 88)\n",
    "shifted_image1 = shiftRight(shifted_image1, 34)\n",
    "shifted_image1 = shiftLeft(shifted_image1, 55)\n",
    "resize = ResizeWithAspectRatio(shifted_image1, width=700) # Resize by width OR\n",
    "cv2.imshow('Shifted', resize)\n",
    "cv2.waitKey(0)\n",
    "cv2.destroyAllWindows()\n",
    "if save:\n",
    "    result = cv2.normalize(resize, dst=None, alpha=0, beta=255,norm_type=cv2.NORM_MINMAX, dtype=cv2.CV_8U)\n",
    "    cv2.imwrite('shifted_image1.png', result)    # mention the path you want to save the result\n"
   ]
  },
  {
   "cell_type": "code",
   "execution_count": null,
   "metadata": {},
   "outputs": [],
   "source": [
    "shifted_image2 = shiftUp(img1, 6)\n",
    "shifted_image2 = shiftDown(shifted_image2, 88)\n",
    "shifted_image2 = shiftRight(shifted_image2, 5)\n",
    "shifted_image2 = shiftLeft(shifted_image2, 45)\n",
    "resize = ResizeWithAspectRatio(shifted_image2, width=700) # Resize by width OR\n",
    "cv2.imshow('Shifted', resize)\n",
    "cv2.waitKey(0)\n",
    "cv2.destroyAllWindows()\n",
    "if save:\n",
    "    result = cv2.normalize(resize, dst=None, alpha=0, beta=255,norm_type=cv2.NORM_MINMAX, dtype=cv2.CV_8U)\n",
    "    cv2.imwrite('shifted_image2.png', result)    # mention the path you want to save the result\n"
   ]
  },
  {
   "cell_type": "code",
   "execution_count": null,
   "metadata": {},
   "outputs": [],
   "source": [
    "def crop_image(img, height_percent, width_percent):\n",
    "    h1, h2 = height_percent\n",
    "    w1, w2 = width_percent\n",
    "    height, width = img.shape[:2]\n",
    "    cropped_image = img[int(height*h1/100):int(height*h2/100), int(width*w1/100):int(width*w2/100)]\n",
    "    return cropped_image\n",
    "    "
   ]
  },
  {
   "cell_type": "code",
   "execution_count": null,
   "metadata": {},
   "outputs": [],
   "source": [
    "cropped = crop_image(img3, (0,50), (0,35))\n",
    "resize = ResizeWithAspectRatio(cropped, width=700) # Resize by width OR\n",
    "cv2.imshow('Cropped', resize)\n",
    "cv2.waitKey(0)\n",
    "cv2.destroyAllWindows()"
   ]
  }
 ],
 "metadata": {
  "kernelspec": {
   "display_name": "Python 3",
   "language": "python",
   "name": "python3"
  },
  "language_info": {
   "codemirror_mode": {
    "name": "ipython",
    "version": 3
   },
   "file_extension": ".py",
   "mimetype": "text/x-python",
   "name": "python",
   "nbconvert_exporter": "python",
   "pygments_lexer": "ipython3",
   "version": "3.11.1"
  }
 },
 "nbformat": 4,
 "nbformat_minor": 2
}
